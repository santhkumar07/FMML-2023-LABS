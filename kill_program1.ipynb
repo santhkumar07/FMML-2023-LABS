{
  "nbformat": 4,
  "nbformat_minor": 0,
  "metadata": {
    "colab": {
      "provenance": [],
      "include_colab_link": true
    },
    "kernelspec": {
      "name": "python3",
      "display_name": "Python 3"
    },
    "language_info": {
      "name": "python"
    }
  },
  "cells": [
    {
      "cell_type": "markdown",
      "metadata": {
        "id": "view-in-github",
        "colab_type": "text"
      },
      "source": [
        "<a href=\"https://colab.research.google.com/github/santhkumar07/FMML-2023-LABS/blob/main/kill_program1.ipynb\" target=\"_parent\"><img src=\"https://colab.research.google.com/assets/colab-badge.svg\" alt=\"Open In Colab\"/></a>"
      ]
    },
    {
      "cell_type": "markdown",
      "source": [
        "*Question* 1 the given integer is even or odd"
      ],
      "metadata": {
        "id": "numw8n_SY7CU"
      }
    },
    {
      "cell_type": "code",
      "execution_count": 1,
      "metadata": {
        "colab": {
          "base_uri": "https://localhost:8080/"
        },
        "id": "E-Eg7jRlVQ5Z",
        "outputId": "a7973b20-e941-4517-a8f6-5bc7e98ca5bd"
      },
      "outputs": [
        {
          "output_type": "stream",
          "name": "stdout",
          "text": [
            "Enter number: 7\n",
            "Yes it is odd number\n"
          ]
        }
      ],
      "source": [
        "a = int(input(\"Enter number: \"))\n",
        "if(a % 2==0):\n",
        "  print(\"Yes it is even number\")\n",
        "else:\n",
        "  print(\"Yes it is odd number\")"
      ]
    },
    {
      "cell_type": "markdown",
      "source": [
        "Question 2 the given number is postive or negative"
      ],
      "metadata": {
        "id": "_1KARN17YzuV"
      }
    },
    {
      "cell_type": "code",
      "source": [
        "a = int(int(input(\"Enter a number:\")))\n",
        "if ( a>0):\n",
        "  print(\"Yes it is positive number:\")\n",
        "else:\n",
        "  print(\"Yes it is negative number:\")"
      ],
      "metadata": {
        "colab": {
          "base_uri": "https://localhost:8080/"
        },
        "id": "Sp6jtYgXY6Bv",
        "outputId": "f26d48c8-c8aa-4f7f-9735-5d7d573b264d"
      },
      "execution_count": 2,
      "outputs": [
        {
          "output_type": "stream",
          "name": "stdout",
          "text": [
            "Enter a number:5\n",
            "Yes it is positive number:\n"
          ]
        }
      ]
    },
    {
      "cell_type": "markdown",
      "source": [
        "Question 3 the square number"
      ],
      "metadata": {
        "id": "TVifKH4RbGo8"
      }
    },
    {
      "cell_type": "code",
      "source": [
        "num = int(input(\"Enter a number:\"))\n",
        "print(f\"The square of {num}: {num**2}\")"
      ],
      "metadata": {
        "colab": {
          "base_uri": "https://localhost:8080/"
        },
        "id": "a77a18iVbJPP",
        "outputId": "ddcf2a1a-aef0-42d4-8847-bf16f7232bc8"
      },
      "execution_count": 4,
      "outputs": [
        {
          "output_type": "stream",
          "name": "stdout",
          "text": [
            "Enter a number:9\n",
            "The square of 9: 81\n"
          ]
        }
      ]
    },
    {
      "cell_type": "markdown",
      "source": [
        "Question 4 the sum of 3 numbers"
      ],
      "metadata": {
        "id": "oiVq3ho1e249"
      }
    },
    {
      "cell_type": "code",
      "source": [
        "a = int(input(\"Enter a number:\"))\n",
        "b = int(input(\"Enter a number:\"))\n",
        "c = int(input(\"Enter a number:\"))\n",
        "print(\"Sum of three numbers is\", a+b+c)"
      ],
      "metadata": {
        "colab": {
          "base_uri": "https://localhost:8080/"
        },
        "id": "WjzpvcHge5rd",
        "outputId": "f4518639-2dfd-4d1b-ca8e-7d296340d952"
      },
      "execution_count": 6,
      "outputs": [
        {
          "output_type": "stream",
          "name": "stdout",
          "text": [
            "Enter a number:5\n",
            "Enter a number:5\n",
            "Enter a number:6\n",
            "Sum of three numbers is 16\n"
          ]
        }
      ]
    },
    {
      "cell_type": "markdown",
      "source": [
        "Question 5 the product of three numbers\n"
      ],
      "metadata": {
        "id": "X5wZ7-fDjYBH"
      }
    },
    {
      "cell_type": "code",
      "source": [
        "num1 = int(input(\"Enter a number:\"))\n",
        "num2 = int(input(\"Enter a number:\"))\n",
        "num3 = int(input(\"Enter a number:\"))\n",
        "print(\"product of three numbers is\", num1*num*2*num3)"
      ],
      "metadata": {
        "colab": {
          "base_uri": "https://localhost:8080/"
        },
        "id": "hGeA5FZtjhz-",
        "outputId": "14747302-c513-43e7-a4f1-69afe5153001"
      },
      "execution_count": 7,
      "outputs": [
        {
          "output_type": "stream",
          "name": "stdout",
          "text": [
            "Enter a number:5\n",
            "Enter a number:6\n",
            "Enter a number:7\n",
            "product of three numbers is 630\n"
          ]
        }
      ]
    },
    {
      "cell_type": "markdown",
      "source": [
        "Question 6 remove spaces from a string"
      ],
      "metadata": {
        "id": "hRCh0u6FklqV"
      }
    },
    {
      "cell_type": "code",
      "source": [
        "str = input(\"Enter a string: \")\n",
        "print(str.replace(\" \", \"\"))"
      ],
      "metadata": {
        "colab": {
          "base_uri": "https://localhost:8080/"
        },
        "id": "c2w3BqbFmr_J",
        "outputId": "8a9d1d3f-fde0-444e-c831-f95b985b226f"
      },
      "execution_count": 8,
      "outputs": [
        {
          "output_type": "stream",
          "name": "stdout",
          "text": [
            "Enter a string: \"santh\"\n",
            "\"santh\"\n"
          ]
        }
      ]
    },
    {
      "cell_type": "markdown",
      "source": [
        "Question 7 to conver fahrenheit into celsius"
      ],
      "metadata": {
        "id": "e1hHj7RyXsNn"
      }
    },
    {
      "cell_type": "code",
      "source": [
        "fahrenhiet = float(input(\"Enter a temperature in fahrenhiet:\"))\n",
        "celsius = (fahrenhiet - 32) * 5/9\n",
        "print(fahrenhiet, \"fahrenhiet is\", celsius)"
      ],
      "metadata": {
        "colab": {
          "base_uri": "https://localhost:8080/"
        },
        "id": "d64_N_GKX3vA",
        "outputId": "f773c01b-44e7-4141-c0db-9c41f76ad128"
      },
      "execution_count": 9,
      "outputs": [
        {
          "output_type": "stream",
          "name": "stdout",
          "text": [
            "Enter a temperature in fahrenhiet:99\n",
            "99.0 fahrenhiet is 37.22222222222222\n"
          ]
        }
      ]
    },
    {
      "cell_type": "markdown",
      "source": [
        "Question 8 smallest number among three numbers"
      ],
      "metadata": {
        "id": "jQzQuBSuoART"
      }
    },
    {
      "cell_type": "code",
      "source": [
        "num1 = int(input(\"Enter a number:\"))\n",
        "num2 = int(input(\"Enter a number:\"))\n",
        "num3 = int(input(\"Enter a number:\"))\n",
        "print(\"The smallest number is\", min(num1,num2,num3))"
      ],
      "metadata": {
        "colab": {
          "base_uri": "https://localhost:8080/"
        },
        "id": "-xQHMuMooGNK",
        "outputId": "d57eb151-8fd7-4332-e947-baf802e01d41"
      },
      "execution_count": 10,
      "outputs": [
        {
          "output_type": "stream",
          "name": "stdout",
          "text": [
            "Enter a number:5\n",
            "Enter a number:6\n",
            "Enter a number:7\n",
            "The smallest number is 5\n"
          ]
        }
      ]
    },
    {
      "cell_type": "markdown",
      "source": [
        "Question 9 greatest number among three numbers\n"
      ],
      "metadata": {
        "id": "BkyuDbQ1oijc"
      }
    },
    {
      "cell_type": "code",
      "source": [
        "num1 = int(input(\"Enter a number:\"))\n",
        "num2 = int(input(\"Enter a number:\"))\n",
        "num3 = int(input(\"Enter a number:\"))\n",
        "print(\"The largest number is\", max(num1,num2,num3))"
      ],
      "metadata": {
        "colab": {
          "base_uri": "https://localhost:8080/"
        },
        "id": "SrzYx5Omokig",
        "outputId": "d867f4b6-1a39-4c04-cb46-b7c42efe517f"
      },
      "execution_count": 11,
      "outputs": [
        {
          "output_type": "stream",
          "name": "stdout",
          "text": [
            "Enter a number:2\n",
            "Enter a number:3\n",
            "Enter a number:4\n",
            "The largest number is 4\n"
          ]
        }
      ]
    },
    {
      "cell_type": "markdown",
      "source": [
        "Question 10 first 10 natural numbers"
      ],
      "metadata": {
        "id": "wnmRxETDo1E0"
      }
    },
    {
      "cell_type": "code",
      "source": [
        "for i in range (1,11):\n",
        "    print(i)"
      ],
      "metadata": {
        "colab": {
          "base_uri": "https://localhost:8080/"
        },
        "id": "zCk2ZnF4o3my",
        "outputId": "cba6faf8-e5a1-4438-80c7-9c77c00e4d05"
      },
      "execution_count": 12,
      "outputs": [
        {
          "output_type": "stream",
          "name": "stdout",
          "text": [
            "1\n",
            "2\n",
            "3\n",
            "4\n",
            "5\n",
            "6\n",
            "7\n",
            "8\n",
            "9\n",
            "10\n"
          ]
        }
      ]
    },
    {
      "cell_type": "markdown",
      "source": [
        "Question 11 reverse number"
      ],
      "metadata": {
        "id": "s96tPOd6qZ9L"
      }
    },
    {
      "cell_type": "code",
      "source": [
        "num = int(input(\"Enter a number :\"))\n",
        "print(\"The reverse of\", num, \"is\", int(str(num)[::-1]))"
      ],
      "metadata": {
        "id": "UEbs1NaRr-BX",
        "colab": {
          "base_uri": "https://localhost:8080/",
          "height": 315
        },
        "outputId": "236c0f7a-b5fd-460f-9592-7f1249f4a36e"
      },
      "execution_count": 15,
      "outputs": [
        {
          "name": "stdout",
          "output_type": "stream",
          "text": [
            "Enter a number :1\n"
          ]
        },
        {
          "output_type": "error",
          "ename": "TypeError",
          "evalue": "'str' object is not callable",
          "traceback": [
            "\u001b[0;31m---------------------------------------------------------------------------\u001b[0m",
            "\u001b[0;31mTypeError\u001b[0m                                 Traceback (most recent call last)",
            "\u001b[0;32m<ipython-input-15-f7755b9edd89>\u001b[0m in \u001b[0;36m<cell line: 0>\u001b[0;34m()\u001b[0m\n\u001b[1;32m      1\u001b[0m \u001b[0mnum\u001b[0m \u001b[0;34m=\u001b[0m \u001b[0mint\u001b[0m\u001b[0;34m(\u001b[0m\u001b[0minput\u001b[0m\u001b[0;34m(\u001b[0m\u001b[0;34m\"Enter a number :\"\u001b[0m\u001b[0;34m)\u001b[0m\u001b[0;34m)\u001b[0m\u001b[0;34m\u001b[0m\u001b[0;34m\u001b[0m\u001b[0m\n\u001b[0;32m----> 2\u001b[0;31m \u001b[0mprint\u001b[0m\u001b[0;34m(\u001b[0m\u001b[0;34m\"The reverse of\"\u001b[0m\u001b[0;34m,\u001b[0m \u001b[0mnum\u001b[0m\u001b[0;34m,\u001b[0m \u001b[0;34m\"is\"\u001b[0m\u001b[0;34m,\u001b[0m \u001b[0mint\u001b[0m\u001b[0;34m(\u001b[0m\u001b[0mstr\u001b[0m\u001b[0;34m(\u001b[0m\u001b[0mnum\u001b[0m\u001b[0;34m)\u001b[0m\u001b[0;34m[\u001b[0m\u001b[0;34m:\u001b[0m\u001b[0;34m:\u001b[0m\u001b[0;34m-\u001b[0m\u001b[0;36m1\u001b[0m\u001b[0;34m]\u001b[0m\u001b[0;34m)\u001b[0m\u001b[0;34m)\u001b[0m\u001b[0;34m\u001b[0m\u001b[0;34m\u001b[0m\u001b[0m\n\u001b[0m",
            "\u001b[0;31mTypeError\u001b[0m: 'str' object is not callable"
          ]
        }
      ]
    },
    {
      "cell_type": "markdown",
      "source": [
        "Question 12 sum of numbers in given range"
      ],
      "metadata": {
        "id": "iBVcI5bxpS9l"
      }
    },
    {
      "cell_type": "code",
      "source": [
        "start = input()\n",
        "end = input()\n",
        "sum = 0\n",
        "for i in range(int(start), int(end)+1):\n",
        "  sum += i\n",
        "print(sum)"
      ],
      "metadata": {
        "id": "cfLrVOcEpU4H",
        "colab": {
          "base_uri": "https://localhost:8080/"
        },
        "outputId": "829a5616-fd97-434a-d3c4-647fd097f917"
      },
      "execution_count": 16,
      "outputs": [
        {
          "output_type": "stream",
          "name": "stdout",
          "text": [
            "6\n",
            "7\n",
            "13\n"
          ]
        }
      ]
    },
    {
      "cell_type": "markdown",
      "source": [
        "Question 13 digits in given number"
      ],
      "metadata": {
        "id": "66aZ0i79pl02"
      }
    },
    {
      "cell_type": "code",
      "source": [
        "num = input()\n",
        "sum = 0\n",
        "for i in num:\n",
        "  sum+=int(i)\n",
        "  print(sum)"
      ],
      "metadata": {
        "id": "OPd47JzXqGae",
        "colab": {
          "base_uri": "https://localhost:8080/"
        },
        "outputId": "f74d8bf8-148c-4ddc-c6d6-b55e38ffbeb1"
      },
      "execution_count": 17,
      "outputs": [
        {
          "output_type": "stream",
          "name": "stdout",
          "text": [
            "5\n",
            "5\n"
          ]
        }
      ]
    },
    {
      "cell_type": "markdown",
      "source": [
        "Question 14 to print sum of n given natural numbers\n"
      ],
      "metadata": {
        "id": "K93yud8GaLGm"
      }
    },
    {
      "cell_type": "code",
      "source": [
        "n = int(input())\n",
        "sum_of_n_natural_numbers = (n * (n + 1)) // 2\n",
        "print(\"sum of\", n , \"natural numbers is\", sum_of_n_natural_numbers)"
      ],
      "metadata": {
        "id": "hbqPCrghaStZ"
      },
      "execution_count": null,
      "outputs": []
    },
    {
      "cell_type": "markdown",
      "source": [
        "Question 15 calculate area of square for the given side"
      ],
      "metadata": {
        "id": "GXMqZWN2aTl2"
      }
    },
    {
      "cell_type": "code",
      "source": [
        "side = float(input())\n",
        "area = side**2\n",
        "print(\"Area of the square is\", area)"
      ],
      "metadata": {
        "colab": {
          "base_uri": "https://localhost:8080/"
        },
        "id": "YJ8Q2KFxaa_V",
        "outputId": "7a88bd52-672c-4fac-a1fe-93aea05d630a"
      },
      "execution_count": 18,
      "outputs": [
        {
          "output_type": "stream",
          "name": "stdout",
          "text": [
            "7\n",
            "Area of the square is 49.0\n"
          ]
        }
      ]
    },
    {
      "cell_type": "markdown",
      "source": [
        "Question 16 to print all even numbers with in a given range"
      ],
      "metadata": {
        "id": "6Wz8uZETabxE"
      }
    },
    {
      "cell_type": "code",
      "source": [
        "start = int(input())\n",
        "end = int(input())\n",
        "for i in range(start, end+1):\n",
        "  if i%2==0:\n",
        "    print(i)"
      ],
      "metadata": {
        "colab": {
          "base_uri": "https://localhost:8080/"
        },
        "id": "_LqLEQ_1aj6c",
        "outputId": "a3ab36db-4703-4361-f5e2-de30868b40f5"
      },
      "execution_count": 19,
      "outputs": [
        {
          "output_type": "stream",
          "name": "stdout",
          "text": [
            "8\n",
            "9\n",
            "8\n"
          ]
        }
      ]
    },
    {
      "cell_type": "markdown",
      "source": [
        "Question 17 multiplication table in a give range"
      ],
      "metadata": {
        "id": "cxCqTVpxakae"
      }
    },
    {
      "cell_type": "code",
      "source": [
        "num = int(input())\n",
        "for i in range(1, 11):\n",
        "  print(num, \"x\", i ,\"=\", num*i)"
      ],
      "metadata": {
        "colab": {
          "base_uri": "https://localhost:8080/"
        },
        "id": "-r-ZK-ztarS5",
        "outputId": "c51e9248-ac38-4d2c-a39b-baa8a55777f8"
      },
      "execution_count": 21,
      "outputs": [
        {
          "output_type": "stream",
          "name": "stdout",
          "text": [
            "9\n",
            "9 x 1 = 9\n",
            "9 x 2 = 18\n",
            "9 x 3 = 27\n",
            "9 x 4 = 36\n",
            "9 x 5 = 45\n",
            "9 x 6 = 54\n",
            "9 x 7 = 63\n",
            "9 x 8 = 72\n",
            "9 x 9 = 81\n",
            "9 x 10 = 90\n"
          ]
        }
      ]
    },
    {
      "cell_type": "markdown",
      "source": [
        "Question 18 first 10 natural numbers in a line seperated with comma"
      ],
      "metadata": {
        "id": "MNq0bu2Fug9D"
      }
    },
    {
      "cell_type": "code",
      "source": [
        "n = 11\n",
        "for i in range(1,n):\n",
        "    print(i, end=\",\")"
      ],
      "metadata": {
        "id": "Zh12WsA6uj_C",
        "colab": {
          "base_uri": "https://localhost:8080/"
        },
        "outputId": "35b53196-a17c-45a7-f7fc-8819724583b9"
      },
      "execution_count": 20,
      "outputs": [
        {
          "output_type": "stream",
          "name": "stdout",
          "text": [
            "1,2,3,4,5,6,7,8,9,10,"
          ]
        }
      ]
    },
    {
      "cell_type": "markdown",
      "source": [
        "Question 19"
      ],
      "metadata": {
        "id": "J8jdG5IpvGTb"
      }
    },
    {
      "cell_type": "code",
      "source": [
        "str1 = input(\"Enter a first string:\")\n",
        "str2 = input(\"Enter a second string:\")\n",
        "print(str1+str2)"
      ],
      "metadata": {
        "id": "jbrVYooVvKaQ",
        "colab": {
          "base_uri": "https://localhost:8080/"
        },
        "outputId": "a048b73d-6a78-4de7-f33d-d6334725cabf"
      },
      "execution_count": 22,
      "outputs": [
        {
          "output_type": "stream",
          "name": "stdout",
          "text": [
            "Enter a first string:\"kumar\"\n",
            "Enter a second string:\"santh\"\n",
            "\"kumar\"\"santh\"\n"
          ]
        }
      ]
    },
    {
      "cell_type": "markdown",
      "source": [
        "Question 20 take a string as input and print the input in seperate lines use loops"
      ],
      "metadata": {
        "id": "RHPz-o_MTF25"
      }
    },
    {
      "cell_type": "code",
      "source": [
        "str= input(\"Enter a string\")\n",
        "for char in str:\n",
        "  print(char)"
      ],
      "metadata": {
        "colab": {
          "base_uri": "https://localhost:8080/"
        },
        "id": "uNcGLslFTJgG",
        "outputId": "961fb92f-d789-434f-ee29-4476847a3394"
      },
      "execution_count": 23,
      "outputs": [
        {
          "output_type": "stream",
          "name": "stdout",
          "text": [
            "Enter a stringSANTH\n",
            "S\n",
            "A\n",
            "N\n",
            "T\n",
            "H\n"
          ]
        }
      ]
    }
  ]
}